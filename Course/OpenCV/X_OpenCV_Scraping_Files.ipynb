{
  "nbformat": 4,
  "nbformat_minor": 0,
  "metadata": {
    "colab": {
      "name": "X_OpenCV - Scraping Files",
      "provenance": [],
      "authorship_tag": "ABX9TyNYPNI3nvpQw+A9rzDqtnIC",
      "include_colab_link": true
    },
    "kernelspec": {
      "name": "python3",
      "display_name": "Python 3"
    },
    "language_info": {
      "name": "python"
    }
  },
  "cells": [
    {
      "cell_type": "markdown",
      "metadata": {
        "id": "view-in-github",
        "colab_type": "text"
      },
      "source": [
        "<a href=\"https://colab.research.google.com/github/batlab-art/Introductions/blob/master/Course/OpenCV/X_OpenCV_Scraping_Files.ipynb\" target=\"_parent\"><img src=\"https://colab.research.google.com/assets/colab-badge.svg\" alt=\"Open In Colab\"/></a>"
      ]
    },
    {
      "cell_type": "code",
      "metadata": {
        "colab": {
          "base_uri": "https://localhost:8080/"
        },
        "id": "ArVk1duavTKk",
        "outputId": "5ce4997f-2acd-4071-d46f-989910f99cae"
      },
      "source": [
        "!pip install icrawler"
      ],
      "execution_count": 1,
      "outputs": [
        {
          "output_type": "stream",
          "name": "stdout",
          "text": [
            "Collecting icrawler\n",
            "  Downloading icrawler-0.6.6-py2.py3-none-any.whl (35 kB)\n",
            "Requirement already satisfied: Pillow in /usr/local/lib/python3.7/dist-packages (from icrawler) (7.1.2)\n",
            "Requirement already satisfied: lxml in /usr/local/lib/python3.7/dist-packages (from icrawler) (4.2.6)\n",
            "Requirement already satisfied: six>=1.10.0 in /usr/local/lib/python3.7/dist-packages (from icrawler) (1.15.0)\n",
            "Requirement already satisfied: beautifulsoup4>=4.4.1 in /usr/local/lib/python3.7/dist-packages (from icrawler) (4.6.3)\n",
            "Requirement already satisfied: requests>=2.9.1 in /usr/local/lib/python3.7/dist-packages (from icrawler) (2.23.0)\n",
            "Requirement already satisfied: urllib3!=1.25.0,!=1.25.1,<1.26,>=1.21.1 in /usr/local/lib/python3.7/dist-packages (from requests>=2.9.1->icrawler) (1.24.3)\n",
            "Requirement already satisfied: chardet<4,>=3.0.2 in /usr/local/lib/python3.7/dist-packages (from requests>=2.9.1->icrawler) (3.0.4)\n",
            "Requirement already satisfied: idna<3,>=2.5 in /usr/local/lib/python3.7/dist-packages (from requests>=2.9.1->icrawler) (2.10)\n",
            "Requirement already satisfied: certifi>=2017.4.17 in /usr/local/lib/python3.7/dist-packages (from requests>=2.9.1->icrawler) (2021.5.30)\n",
            "Installing collected packages: icrawler\n",
            "Successfully installed icrawler-0.6.6\n"
          ]
        }
      ]
    },
    {
      "cell_type": "markdown",
      "metadata": {
        "id": "_ozOsOU6vZhJ"
      },
      "source": [
        "# BingImageCrawler:\n",
        "\n",
        "**Type** – “photo”, “clipart”, “linedrawing”, “transparent”, “animated\"\n",
        "**Color** – “color”, “blackandwhite”, “red”, “orange”, “yellow”, “green”, “teal”, “blue”, “purple”, “pink”, “white”, “gray”, “black”, “brown\n",
        "**Size** – “large”, “medium”, “small” or larger than a given size (e.g. “>640x480”).\n",
        "**License** – “creativecommons”, “publicdomain”, “noncommercial”, “commercial”, “noncommercial,modify”, “commercial,modify”.\n",
        "**Layout** – “square”, “wide”, “tall”.\n",
        "**People** – “face”, “portrait”.\n",
        "**Date** – “pastday”, “pastweek”, “pastmonth”, “pastyear”.\n",
        "\n",
        "https://icrawler.readthedocs.io/en/latest/builtin.html"
      ]
    },
    {
      "cell_type": "code",
      "metadata": {
        "colab": {
          "base_uri": "https://localhost:8080/"
        },
        "id": "dX6bD40YvUHv",
        "outputId": "8fb0b76c-ff6d-4516-e049-8eeee7563719"
      },
      "source": [
        "!rm /content/download/*\n",
        "from icrawler.builtin import BingImageCrawler\n",
        "\n",
        "keywordText = 'spot brown little'  #@param {type: \"string\"}\n",
        "num_images =   20#@param {type: \"number\"}\n",
        "directory = 'download'\n",
        "\n",
        "bing_crawler = BingImageCrawler(storage={'root_dir': directory})\n",
        "bing_crawler.crawl(keyword=keywordText, max_num=num_images)\n",
        "\n",
        "files_directory = '/content/' + directory + '/' "
      ],
      "execution_count": 2,
      "outputs": [
        {
          "output_type": "stream",
          "name": "stdout",
          "text": [
            "rm: cannot remove '/content/download/*': No such file or directory\n"
          ]
        },
        {
          "output_type": "stream",
          "name": "stderr",
          "text": [
            "2021-10-03 15:21:44,905 - INFO - icrawler.crawler - start crawling...\n",
            "2021-10-03 15:21:44,907 - INFO - icrawler.crawler - starting 1 feeder threads...\n",
            "2021-10-03 15:21:44,915 - INFO - feeder - thread feeder-001 exit\n",
            "2021-10-03 15:21:44,915 - INFO - icrawler.crawler - starting 1 parser threads...\n",
            "2021-10-03 15:21:44,924 - INFO - icrawler.crawler - starting 1 downloader threads...\n",
            "2021-10-03 15:21:45,369 - INFO - parser - parsing result page https://www.bing.com/images/async?q=spot brown little&first=0\n",
            "2021-10-03 15:21:45,579 - INFO - downloader - image #1\thttp://www.top10homeremedies.com/wp-content/uploads/2013/03/brown-spots-skin1.jpg\n",
            "2021-10-03 15:21:45,648 - ERROR - downloader - Response status code 403, file https://preview.redd.it/t078k43pz1g01.jpg\n",
            "2021-10-03 15:21:45,682 - INFO - downloader - image #2\thttps://i.pinimg.com/736x/03/f5/ae/03f5aeb238720f24f1d96cd991fce2f3.jpg\n",
            "2021-10-03 15:21:46,155 - INFO - downloader - image #3\thttps://diseaeseshows.com/wp-content/uploads/2017/04/20SebKeratosisLeg1.jpg\n",
            "2021-10-03 15:21:46,201 - INFO - downloader - image #4\thttp://farm5.static.flickr.com/4015/4300118491_52aebaa1e9_m.jpg\n",
            "2021-10-03 15:21:46,298 - INFO - downloader - image #5\thttps://i.pinimg.com/736x/3a/76/70/3a76707ae42387e0595b31769d1d403c.jpg\n",
            "2021-10-03 15:21:46,549 - INFO - downloader - image #6\thttp://i.imgur.com/pTz4iZq.jpg\n",
            "2021-10-03 15:21:46,581 - ERROR - downloader - Response status code 403, file https://external-preview.redd.it/iaknV825tILKDiN3mvP8UedXFsWyYnVKBVkysmpFduY.jpg\n",
            "2021-10-03 15:21:46,764 - INFO - downloader - image #7\thttps://diseaeseshows.com/wp-content/uploads/2017/04/brown-spots-skin.jpg\n",
            "2021-10-03 15:21:46,817 - INFO - downloader - image #8\thttps://i.redd.it/pzp8q8zq2lq31.jpg\n",
            "2021-10-03 15:21:46,897 - INFO - downloader - image #9\thttps://fiddleleaffigplant.com/wp-content/uploads/2019/04/IMG_2309-1024x768.jpg\n",
            "2021-10-03 15:21:46,916 - INFO - downloader - image #10\thttps://i.redd.it/e82inlbxaor41.jpg\n",
            "2021-10-03 15:21:46,997 - INFO - downloader - image #11\thttps://i.pinimg.com/originals/b1/29/04/b129048d51bfb5bb57fd4e7e3f4b9aa1.jpg\n",
            "2021-10-03 15:21:47,221 - INFO - downloader - image #12\thttp://i.imgur.com/1BWuIJe.jpg\n",
            "2021-10-03 15:21:47,278 - INFO - downloader - image #13\thttps://patient.azureedge.net/forums/images/upload/1154390-3d5a4fcf-83d9-4f7e-a3e7-30427f4f802c.jpg\n",
            "2021-10-03 15:21:47,441 - INFO - downloader - image #14\thttp://www.420magazine.com/gallery/data/1423/IMG_20161029_101659.jpg\n",
            "2021-10-03 15:21:47,593 - INFO - downloader - image #15\thttps://static.wixstatic.com/media/afd73c_93a8c584dfca4d788aba0aa82357a7ca~mv2.jpg\n",
            "2021-10-03 15:21:48,532 - INFO - downloader - image #16\thttp://www.knowledgebank.irri.org/images/stories/brown-spot-4.jpg\n",
            "2021-10-03 15:21:48,625 - INFO - downloader - image #17\thttps://i.ytimg.com/vi/tYbXO05tnC0/maxresdefault.jpg\n",
            "2021-10-03 15:21:48,719 - INFO - downloader - image #18\thttps://i.pinimg.com/originals/e7/68/14/e768144eab8710437d3c75510da08c78.jpg\n",
            "2021-10-03 15:21:48,796 - INFO - downloader - image #19\thttps://i.pinimg.com/originals/20/12/98/201298bf34f2efad13ac2207e708fd56.jpg\n",
            "2021-10-03 15:21:48,869 - INFO - downloader - image #20\thttps://i.ytimg.com/vi/ZAxSfGXk7TY/maxresdefault.jpg\n",
            "2021-10-03 15:21:48,955 - INFO - downloader - downloaded images reach max num, thread downloader-001 is ready to exit\n",
            "2021-10-03 15:21:48,957 - INFO - downloader - thread downloader-001 exit\n",
            "2021-10-03 15:21:49,937 - INFO - icrawler.crawler - Crawling task done!\n"
          ]
        }
      ]
    }
  ]
}