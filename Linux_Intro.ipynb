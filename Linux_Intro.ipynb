{
  "nbformat": 4,
  "nbformat_minor": 0,
  "metadata": {
    "colab": {
      "name": "Linux / Intro",
      "provenance": [],
      "collapsed_sections": [
        "5mwmLiNapIoE",
        "ESGKgt6Ms2zU",
        "6FDzLDKcxnXG",
        "JSNzLz2CtAcK",
        "nhF2-bngsS3Q",
        "uv7qclFKsc9o",
        "JRXpdlmAuuy8"
      ],
      "toc_visible": true,
      "authorship_tag": "ABX9TyO/zQ+BG3jpTKQpftxp7VnS",
      "include_colab_link": true
    },
    "kernelspec": {
      "name": "python3",
      "display_name": "Python 3"
    }
  },
  "cells": [
    {
      "cell_type": "markdown",
      "metadata": {
        "id": "view-in-github",
        "colab_type": "text"
      },
      "source": [
        "<a href=\"https://colab.research.google.com/github/batlab-art/Introductions/blob/master/Linux_Intro.ipynb\" target=\"_parent\"><img src=\"https://colab.research.google.com/assets/colab-badge.svg\" alt=\"Open In Colab\"/></a>"
      ]
    },
    {
      "cell_type": "markdown",
      "metadata": {
        "id": "3eXLaWqC29Yx"
      },
      "source": [
        "#Linux"
      ]
    },
    {
      "cell_type": "code",
      "metadata": {
        "id": "J3QB1HCU2zdc",
        "outputId": "a3d25582-e489-4688-852f-138cfec524a8",
        "colab": {
          "base_uri": "https://localhost:8080/"
        }
      },
      "source": [
        "!cat /etc/os-release"
      ],
      "execution_count": 38,
      "outputs": [
        {
          "output_type": "stream",
          "text": [
            "NAME=\"Ubuntu\"\n",
            "VERSION=\"18.04.5 LTS (Bionic Beaver)\"\n",
            "ID=ubuntu\n",
            "ID_LIKE=debian\n",
            "PRETTY_NAME=\"Ubuntu 18.04.5 LTS\"\n",
            "VERSION_ID=\"18.04\"\n",
            "HOME_URL=\"https://www.ubuntu.com/\"\n",
            "SUPPORT_URL=\"https://help.ubuntu.com/\"\n",
            "BUG_REPORT_URL=\"https://bugs.launchpad.net/ubuntu/\"\n",
            "PRIVACY_POLICY_URL=\"https://www.ubuntu.com/legal/terms-and-policies/privacy-policy\"\n",
            "VERSION_CODENAME=bionic\n",
            "UBUNTU_CODENAME=bionic\n"
          ],
          "name": "stdout"
        }
      ]
    },
    {
      "cell_type": "markdown",
      "metadata": {
        "id": "RDJgyR526sxM"
      },
      "source": [
        "after the you run the cat command you can see that Google Colab is running on **Linux/Ubuntu**"
      ]
    },
    {
      "cell_type": "markdown",
      "metadata": {
        "id": "j9iaoRD77ErM"
      },
      "source": [
        "**Linux** (/ˈlinʊks/ (About this soundlisten) LEEN-uuks or /ˈlɪnʊks/ LIN-uuks) is a family of open-source Unix-like operating systems based on the Linux kernel, an operating system kernel first released on September 17, 1991, by Linus Torvalds. Linux is typically packaged in a Linux distribution.\n",
        "\n",
        "Distributions include the Linux kernel and supporting system software and libraries, many of which are provided by the GNU Project. Many Linux distributions use the word \"Linux\" in their name, but the Free Software Foundation uses the name GNU/Linux to emphasize the importance of GNU software, causing some controversy.\n",
        "\n",
        "Popular Linux distributions include **Debian, Fedora, and Ubuntu**. Commercial distributions include Red Hat Enterprise Linux and SUSE Linux Enterprise Server. Desktop Linux distributions include a windowing system such as X11 or Wayland, and a desktop environment such as GNOME or KDE Plasma. Distributions intended for servers may omit graphics altogether, or include a solution stack such as LAMP. Because Linux is freely redistributable, anyone may create a distribution for any purpose. - [WIKI](https://en.wikipedia.org/wiki/Linux) [Ubuntu](https://ubuntu.com/)"
      ]
    },
    {
      "cell_type": "markdown",
      "metadata": {
        "id": "5mwmLiNapIoE"
      },
      "source": [
        "# Common Linux Commands"
      ]
    },
    {
      "cell_type": "markdown",
      "metadata": {
        "id": "Ory9jQkcsv1D"
      },
      "source": [
        "###**pwd** - Current folder"
      ]
    },
    {
      "cell_type": "code",
      "metadata": {
        "id": "oQW-K-PapFOF",
        "outputId": "00a22afb-235e-4084-bb4b-356221ed2f8d",
        "colab": {
          "base_uri": "https://localhost:8080/"
        }
      },
      "source": [
        "!pwd"
      ],
      "execution_count": 1,
      "outputs": [
        {
          "output_type": "stream",
          "text": [
            "/content\n"
          ],
          "name": "stdout"
        }
      ]
    },
    {
      "cell_type": "markdown",
      "metadata": {
        "id": "9haKLY95xnH0"
      },
      "source": [
        "###**whoami** - Current user"
      ]
    },
    {
      "cell_type": "code",
      "metadata": {
        "id": "HUxhyC_fxnH5",
        "outputId": "ebc2bc00-a64b-49fc-c41f-129de751e988",
        "colab": {
          "base_uri": "https://localhost:8080/"
        }
      },
      "source": [
        "!whoami"
      ],
      "execution_count": 17,
      "outputs": [
        {
          "output_type": "stream",
          "text": [
            "root\n"
          ],
          "name": "stdout"
        }
      ]
    },
    {
      "cell_type": "markdown",
      "metadata": {
        "id": "ESGKgt6Ms2zU"
      },
      "source": [
        "###**ls** - List files in directory"
      ]
    },
    {
      "cell_type": "code",
      "metadata": {
        "id": "VyHQX9p_pIOF",
        "outputId": "05fa9708-1476-4735-ac92-bba4f38af842",
        "colab": {
          "base_uri": "https://localhost:8080/"
        }
      },
      "source": [
        "!ls"
      ],
      "execution_count": 2,
      "outputs": [
        {
          "output_type": "stream",
          "text": [
            "sample_data\n"
          ],
          "name": "stdout"
        }
      ]
    },
    {
      "cell_type": "markdown",
      "metadata": {
        "id": "Vg94f-tHth-q"
      },
      "source": [
        "###**cd** - Change directory"
      ]
    },
    {
      "cell_type": "code",
      "metadata": {
        "id": "YfwSmTpmqBAJ",
        "outputId": "87c30309-fd8b-4c8b-8f54-a10e75fefaf2",
        "colab": {
          "base_uri": "https://localhost:8080/"
        }
      },
      "source": [
        "%cd /\n"
      ],
      "execution_count": 5,
      "outputs": [
        {
          "output_type": "stream",
          "text": [
            "/\n"
          ],
          "name": "stdout"
        }
      ]
    },
    {
      "cell_type": "code",
      "metadata": {
        "id": "QK3c4UHYqNAj",
        "outputId": "9e3d7b32-bd32-4d0e-ed2b-012c9acb32e3",
        "colab": {
          "base_uri": "https://localhost:8080/"
        }
      },
      "source": [
        "!ls"
      ],
      "execution_count": 6,
      "outputs": [
        {
          "output_type": "stream",
          "text": [
            "bin\t datalab  home\t lib64\topt   run   swift\t       tmp    var\n",
            "boot\t dev\t  lib\t media\tproc  sbin  sys\t\t       tools\n",
            "content  etc\t  lib32  mnt\troot  srv   tensorflow-1.15.2  usr\n"
          ],
          "name": "stdout"
        }
      ]
    },
    {
      "cell_type": "markdown",
      "metadata": {
        "id": "6FDzLDKcxnXG"
      },
      "source": [
        "###**compgen** - List available commands"
      ]
    },
    {
      "cell_type": "code",
      "metadata": {
        "id": "yn4VcWhYxnXG"
      },
      "source": [
        "!compgen -c"
      ],
      "execution_count": null,
      "outputs": []
    },
    {
      "cell_type": "markdown",
      "metadata": {
        "id": "JSNzLz2CtAcK"
      },
      "source": [
        "###**man** - get manual for command"
      ]
    },
    {
      "cell_type": "code",
      "metadata": {
        "id": "L3R2m4L0tFln"
      },
      "source": [
        "!man ls"
      ],
      "execution_count": null,
      "outputs": []
    },
    {
      "cell_type": "code",
      "metadata": {
        "id": "P5bAqp-fvOe4",
        "outputId": "4fa124e6-28bb-436c-b329-53d5709e0a22",
        "colab": {
          "base_uri": "https://localhost:8080/"
        }
      },
      "source": [
        "!man ls | head -n 22"
      ],
      "execution_count": 16,
      "outputs": [
        {
          "output_type": "stream",
          "text": [
            "LS(1POSIX)                 POSIX Programmer's Manual                LS(1POSIX)\n",
            "\n",
            "PROLOG\n",
            "       This  manual  page is part of the POSIX Programmer's Manual.  The Linux\n",
            "       implementation of this interface may differ (consult the  corresponding\n",
            "       Linux  manual page for details of Linux behavior), or the interface may\n",
            "       not be implemented on Linux.\n",
            "\n",
            "NAME\n",
            "       ls — list directory contents\n",
            "\n",
            "SYNOPSIS\n",
            "       ls [−ikqrs] [−glno] [−A|−a] [−C|−m|−x|−1] \\\n",
            "           [−F|−p] [−H|−L] [−R|−d] [−S|−f|−t] [−c|−u] [file...]\n",
            "\n",
            "DESCRIPTION\n",
            "       For each operand that names a file of a type other  than  directory  or\n",
            "       symbolic  link  to  a directory, ls shall write the name of the file as\n",
            "       well as any requested, associated information. For  each  operand  that\n",
            "       names  a file of type directory, ls shall write the names of files con‐\n",
            "       tained within the directory as well as any requested, associated infor‐\n",
            "       mation.  Filenames  beginning with a <period> ('.')  and any associated\n"
          ],
          "name": "stdout"
        }
      ]
    },
    {
      "cell_type": "code",
      "metadata": {
        "id": "rp4gfsflvNWb"
      },
      "source": [
        ""
      ],
      "execution_count": null,
      "outputs": []
    },
    {
      "cell_type": "code",
      "metadata": {
        "id": "1CCDd3omtNiO",
        "outputId": "023d444f-0cb8-4fd2-ff4c-1c4ac2d8e173",
        "colab": {
          "base_uri": "https://localhost:8080/"
        }
      },
      "source": [
        "%cd /content\n",
        "!ls -l"
      ],
      "execution_count": 14,
      "outputs": [
        {
          "output_type": "stream",
          "text": [
            "total 3764\n",
            "drwxr-xr-x 6 root root    4096 Oct  7 15:28 Introductions\n",
            "drwxr-xr-x 5 root root    4096 Oct  1 12:40 Introductions-master\n",
            "-rw-r--r-- 1 root root 3838354 Oct  7 15:29 master.zip\n",
            "drwxr-xr-x 1 root root    4096 Oct  5 16:31 sample_data\n"
          ],
          "name": "stdout"
        }
      ]
    },
    {
      "cell_type": "markdown",
      "metadata": {
        "id": "nhF2-bngsS3Q"
      },
      "source": [
        "###Making and Removing a folder\n",
        "###**mkdir** **rm**"
      ]
    },
    {
      "cell_type": "code",
      "metadata": {
        "id": "QRQ_ZGN8r2hm",
        "outputId": "0092e401-88f9-45e6-d878-cd2b0aa1cc2f",
        "colab": {
          "base_uri": "https://localhost:8080/"
        }
      },
      "source": [
        "!ls\n",
        "!mkdir newdir\n",
        "!echo ---\n",
        "!ls \n",
        "!echo ---\n",
        "!rm -r newdir\n",
        "!ls"
      ],
      "execution_count": 12,
      "outputs": [
        {
          "output_type": "stream",
          "text": [
            "Introductions  Introductions-master  master.zip  sample_data\n",
            "---\n",
            "Introductions  Introductions-master  master.zip  newdir  sample_data\n",
            "---\n",
            "Introductions  Introductions-master  master.zip  sample_data\n"
          ],
          "name": "stdout"
        }
      ]
    },
    {
      "cell_type": "code",
      "metadata": {
        "id": "zEKPvq4usOft"
      },
      "source": [
        ""
      ],
      "execution_count": null,
      "outputs": []
    },
    {
      "cell_type": "markdown",
      "metadata": {
        "id": "uv7qclFKsc9o"
      },
      "source": [
        "###**Wget** - Fetch a file \n",
        "###**Unzip**"
      ]
    },
    {
      "cell_type": "code",
      "metadata": {
        "id": "A1uT-Sr7q5H2",
        "outputId": "bbe5c063-5aa3-4914-f691-1abb82cf7197",
        "colab": {
          "base_uri": "https://localhost:8080/"
        }
      },
      "source": [
        "!wget https://github.com/batlab-art/Introductions/archive/master.zip\n",
        "!unzip master.zip"
      ],
      "execution_count": 8,
      "outputs": [
        {
          "output_type": "stream",
          "text": [
            "--2020-10-07 15:29:02--  https://github.com/batlab-art/Introductions/archive/master.zip\n",
            "Resolving github.com (github.com)... 140.82.112.4\n",
            "Connecting to github.com (github.com)|140.82.112.4|:443... connected.\n",
            "HTTP request sent, awaiting response... 302 Found\n",
            "Location: https://codeload.github.com/batlab-art/Introductions/zip/master [following]\n",
            "--2020-10-07 15:29:02--  https://codeload.github.com/batlab-art/Introductions/zip/master\n",
            "Resolving codeload.github.com (codeload.github.com)... 140.82.114.10\n",
            "Connecting to codeload.github.com (codeload.github.com)|140.82.114.10|:443... connected.\n",
            "HTTP request sent, awaiting response... 200 OK\n",
            "Length: unspecified [application/zip]\n",
            "Saving to: ‘master.zip’\n",
            "\n",
            "master.zip              [  <=>               ]   3.66M  13.3MB/s    in 0.3s    \n",
            "\n",
            "2020-10-07 15:29:03 (13.3 MB/s) - ‘master.zip’ saved [3838354]\n",
            "\n",
            "Archive:  master.zip\n",
            "11ff2115aeb19075ad49785f444dd0a05f9107f9\n",
            "   creating: Introductions-master/\n",
            "   creating: Introductions-master/Deepdream/\n",
            "  inflating: Introductions-master/Deepdream/Copy_of_beginner.ipynb  \n",
            "  inflating: Introductions-master/Deepdream/Copy_of_deepdream.ipynb  \n",
            "  inflating: Introductions-master/Open_Cv_Scraping_For_Class.ipynb  \n",
            "  inflating: Introductions-master/README.md  \n",
            "  inflating: Introductions-master/Scraping_and_OpenCV.ipynb  \n",
            "   creating: Introductions-master/assets/\n",
            "   creating: Introductions-master/assets/captcha/\n",
            " extracting: Introductions-master/assets/captcha/captcha001.png  \n",
            " extracting: Introductions-master/assets/captcha/captcha002.png  \n",
            " extracting: Introductions-master/assets/captcha/captcha003.png  \n",
            " extracting: Introductions-master/assets/captcha/captcha004.png  \n",
            " extracting: Introductions-master/assets/captcha/captcha005.png  \n",
            " extracting: Introductions-master/assets/captcha/captcha006.png  \n",
            " extracting: Introductions-master/assets/captcha/captcha007.png  \n",
            " extracting: Introductions-master/assets/captcha/captcha009.png  \n",
            " extracting: Introductions-master/assets/captcha/captcha010.png  \n",
            " extracting: Introductions-master/assets/captcha/captcha011.png  \n",
            " extracting: Introductions-master/assets/captcha/captcha013.png  \n",
            " extracting: Introductions-master/assets/captcha/captcha014.png  \n",
            " extracting: Introductions-master/assets/captcha/captcha015.png  \n",
            " extracting: Introductions-master/assets/captcha/captcha016.png  \n",
            " extracting: Introductions-master/assets/captcha/captcha017.png  \n",
            " extracting: Introductions-master/assets/captcha/captcha018.png  \n",
            " extracting: Introductions-master/assets/captcha/captcha019.png  \n",
            " extracting: Introductions-master/assets/captcha/captcha020.png  \n",
            "  inflating: Introductions-master/assets/faces.jpeg  \n",
            "   creating: Introductions-master/extras/\n",
            "  inflating: Introductions-master/extras/Colab_Intro.ipynb  \n",
            "  inflating: Introductions-master/faceDetection.ipynb  \n",
            "  inflating: Introductions-master/opencv_examples.ipynb  \n",
            "  inflating: Introductions-master/test_captcha_solve_running_checkpoint.ipynb  \n"
          ],
          "name": "stdout"
        }
      ]
    },
    {
      "cell_type": "markdown",
      "metadata": {
        "id": "HWuCLvELttkB"
      },
      "source": [
        "###**git** - github app"
      ]
    },
    {
      "cell_type": "code",
      "metadata": {
        "id": "-6kv8oGVqQfE",
        "outputId": "6fa4e16e-cd65-4c06-86a0-d96eb06f730b",
        "colab": {
          "base_uri": "https://localhost:8080/"
        }
      },
      "source": [
        "%cd /content\n",
        "!git clone https://github.com/batlab-art/Introductions.git"
      ],
      "execution_count": 7,
      "outputs": [
        {
          "output_type": "stream",
          "text": [
            "/content\n",
            "Cloning into 'Introductions'...\n",
            "remote: Enumerating objects: 106, done.\u001b[K\n",
            "remote: Counting objects: 100% (106/106), done.\u001b[K\n",
            "remote: Compressing objects: 100% (102/102), done.\u001b[K\n",
            "remote: Total 106 (delta 29), reused 23 (delta 1), pack-reused 0\u001b[K\n",
            "Receiving objects: 100% (106/106), 48.78 MiB | 11.14 MiB/s, done.\n",
            "Resolving deltas: 100% (29/29), done.\n"
          ],
          "name": "stdout"
        }
      ]
    },
    {
      "cell_type": "markdown",
      "metadata": {
        "id": "AsMP-tycykCg"
      },
      "source": [
        "### **sudo** - assume root\n",
        "### **apt** - managing installed packages\n",
        "\n"
      ]
    },
    {
      "cell_type": "code",
      "metadata": {
        "id": "o8zmaRkmyyDz"
      },
      "source": [
        "!sudo apt install tesseract-ocr"
      ],
      "execution_count": null,
      "outputs": []
    },
    {
      "cell_type": "code",
      "metadata": {
        "id": "EkB0abOoy3s7"
      },
      "source": [
        "!tesseract"
      ],
      "execution_count": null,
      "outputs": []
    },
    {
      "cell_type": "code",
      "metadata": {
        "id": "2xBExc2ky_Xx",
        "outputId": "9404cbe6-6692-44e4-a08d-866c322f9a6f",
        "colab": {
          "base_uri": "https://localhost:8080/"
        }
      },
      "source": [
        "!sudo apt remove tesseract-ocr"
      ],
      "execution_count": 24,
      "outputs": [
        {
          "output_type": "stream",
          "text": [
            "Reading package lists... Done\n",
            "Building dependency tree       \n",
            "Reading state information... Done\n",
            "The following packages were automatically installed and are no longer required:\n",
            "  tesseract-ocr-eng tesseract-ocr-osd\n",
            "Use 'sudo apt autoremove' to remove them.\n",
            "The following packages will be REMOVED:\n",
            "  tesseract-ocr\n",
            "0 upgraded, 0 newly installed, 1 to remove and 6 not upgraded.\n",
            "After this operation, 1,067 kB disk space will be freed.\n",
            "(Reading database ... 144664 files and directories currently installed.)\n",
            "Removing tesseract-ocr (4.00~git2288-10f4998a-2) ...\n",
            "Processing triggers for man-db (2.8.3-2ubuntu0.1) ...\n"
          ],
          "name": "stdout"
        }
      ]
    },
    {
      "cell_type": "markdown",
      "metadata": {
        "id": "JRXpdlmAuuy8"
      },
      "source": [
        "#Try the commands in a Terminal"
      ]
    },
    {
      "cell_type": "code",
      "metadata": {
        "id": "c5T_S3jku7hH",
        "outputId": "8d4ecb47-a162-42dc-ffc4-fa0aab02cfc9",
        "colab": {
          "base_uri": "https://localhost:8080/"
        }
      },
      "source": [
        "!pip install kora\n",
        "from kora import console\n",
        "console.start()  # and click link"
      ],
      "execution_count": 37,
      "outputs": [
        {
          "output_type": "stream",
          "text": [
            "Requirement already satisfied: kora in /usr/local/lib/python3.6/dist-packages (0.7.4)\n",
            "Requirement already satisfied: ipython in /usr/local/lib/python3.6/dist-packages (from kora) (5.5.0)\n",
            "Requirement already satisfied: decorator in /usr/local/lib/python3.6/dist-packages (from ipython->kora) (4.4.2)\n",
            "Requirement already satisfied: prompt-toolkit<2.0.0,>=1.0.4 in /usr/local/lib/python3.6/dist-packages (from ipython->kora) (1.0.18)\n",
            "Requirement already satisfied: traitlets>=4.2 in /usr/local/lib/python3.6/dist-packages (from ipython->kora) (4.3.3)\n",
            "Requirement already satisfied: pygments in /usr/local/lib/python3.6/dist-packages (from ipython->kora) (2.6.1)\n",
            "Requirement already satisfied: simplegeneric>0.8 in /usr/local/lib/python3.6/dist-packages (from ipython->kora) (0.8.1)\n",
            "Requirement already satisfied: pickleshare in /usr/local/lib/python3.6/dist-packages (from ipython->kora) (0.7.5)\n",
            "Requirement already satisfied: setuptools>=18.5 in /usr/local/lib/python3.6/dist-packages (from ipython->kora) (50.3.0)\n",
            "Requirement already satisfied: pexpect; sys_platform != \"win32\" in /usr/local/lib/python3.6/dist-packages (from ipython->kora) (4.8.0)\n",
            "Requirement already satisfied: six>=1.9.0 in /usr/local/lib/python3.6/dist-packages (from prompt-toolkit<2.0.0,>=1.0.4->ipython->kora) (1.15.0)\n",
            "Requirement already satisfied: wcwidth in /usr/local/lib/python3.6/dist-packages (from prompt-toolkit<2.0.0,>=1.0.4->ipython->kora) (0.2.5)\n",
            "Requirement already satisfied: ipython-genutils in /usr/local/lib/python3.6/dist-packages (from traitlets>=4.2->ipython->kora) (0.2.0)\n",
            "Requirement already satisfied: ptyprocess>=0.5 in /usr/local/lib/python3.6/dist-packages (from pexpect; sys_platform != \"win32\"->ipython->kora) (0.6.0)\n",
            "Console URL: https://teleconsole.com/s/ed94847e41096531db7378f9bce343895119d055\n"
          ],
          "name": "stdout"
        }
      ]
    },
    {
      "cell_type": "markdown",
      "metadata": {
        "id": "0USzZ9XVzhXS"
      },
      "source": [
        "# More Commands\n"
      ]
    },
    {
      "cell_type": "markdown",
      "metadata": {
        "id": "jQb3QB0q8Fdv"
      },
      "source": [
        "### **grep** - text functions"
      ]
    },
    {
      "cell_type": "code",
      "metadata": {
        "id": "OtrOWCoLzdCH"
      },
      "source": [
        "!grep -Po '\"Series\": *\\K\"[^\"]*\"' sample_data/anscombe.json | head -n 20"
      ],
      "execution_count": null,
      "outputs": []
    },
    {
      "cell_type": "markdown",
      "metadata": {
        "id": "U-ymc8FI0z0v"
      },
      "source": [
        "###**python** - Run Python from command line"
      ]
    },
    {
      "cell_type": "code",
      "metadata": {
        "id": "G5DZPJHYz_XP"
      },
      "source": [
        "!python "
      ],
      "execution_count": null,
      "outputs": []
    },
    {
      "cell_type": "markdown",
      "metadata": {
        "id": "hjrz2mHU0_HZ"
      },
      "source": [
        "###**pip** - manage python libraries"
      ]
    },
    {
      "cell_type": "code",
      "metadata": {
        "id": "YJ-MttOU0i6o"
      },
      "source": [
        "!pip install icrawler"
      ],
      "execution_count": null,
      "outputs": []
    },
    {
      "cell_type": "markdown",
      "metadata": {
        "id": "uzzNsQ3v13zW"
      },
      "source": [
        "###**vi** - text editor - not available in a notebook"
      ]
    },
    {
      "cell_type": "code",
      "metadata": {
        "id": "xsvib6Mo1Oy3"
      },
      "source": [
        "!sudo apt install vim\n",
        "!vim /content/sample_data/mnist_test.csv"
      ],
      "execution_count": null,
      "outputs": []
    },
    {
      "cell_type": "markdown",
      "metadata": {
        "id": "uUZ2_PUr6b7l"
      },
      "source": [
        "###**gcc** - GNU Cross Compiler / GNU Compiler Collection\n",
        "printf result a short C program is written to hello.c then compiled using gcc and called"
      ]
    },
    {
      "cell_type": "code",
      "metadata": {
        "id": "8PNaNiIv3F1H"
      },
      "source": [
        "!printf '#include <stdio.h>\\n\\nvoid main() {\\nprintf(\"Hello World\");\\n return;\\n}' > hello.c \n",
        "!gcc hello.c -o compiled\n",
        "!./compiled"
      ],
      "execution_count": null,
      "outputs": []
    }
  ]
}