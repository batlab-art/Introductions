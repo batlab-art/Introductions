{
  "nbformat": 4,
  "nbformat_minor": 0,
  "metadata": {
    "kernelspec": {
      "display_name": "Python 3",
      "language": "python",
      "name": "python3"
    },
    "language_info": {
      "codemirror_mode": {
        "name": "ipython",
        "version": 3
      },
      "file_extension": ".py",
      "mimetype": "text/x-python",
      "name": "python",
      "nbconvert_exporter": "python",
      "pygments_lexer": "ipython3",
      "version": "3.6.8rc1"
    },
    "colab": {
      "name": "test captcha-solve-running-checkpoint.ipynb",
      "provenance": [],
      "toc_visible": true,
      "include_colab_link": true
    }
  },
  "cells": [
    {
      "cell_type": "markdown",
      "metadata": {
        "id": "view-in-github",
        "colab_type": "text"
      },
      "source": [
        "<a href=\"https://colab.research.google.com/github/batlab-art/Introductions/blob/master/test_captcha_solve_running_checkpoint.ipynb\" target=\"_parent\"><img src=\"https://colab.research.google.com/assets/colab-badge.svg\" alt=\"Open In Colab\"/></a>"
      ]
    },
    {
      "cell_type": "markdown",
      "metadata": {
        "id": "-biCVLKN4Yd_",
        "colab_type": "text"
      },
      "source": [
        "# **Install necessary dependencies**"
      ]
    },
    {
      "cell_type": "code",
      "metadata": {
        "id": "X91hx8zFpVHb",
        "colab_type": "code",
        "colab": {
          "base_uri": "https://localhost:8080/",
          "height": 134
        },
        "outputId": "1b778d1e-3211-47c9-976e-1e98987d54d8"
      },
      "source": [
        "!pip install pytesseract\n",
        "!sudo apt install tesseract-ocr"
      ],
      "execution_count": 11,
      "outputs": [
        {
          "output_type": "stream",
          "text": [
            "Requirement already satisfied: pytesseract in /usr/local/lib/python3.6/dist-packages (0.3.6)\n",
            "Requirement already satisfied: Pillow in /usr/local/lib/python3.6/dist-packages (from pytesseract) (7.0.0)\n",
            "Reading package lists... Done\n",
            "Building dependency tree       \n",
            "Reading state information... Done\n",
            "tesseract-ocr is already the newest version (4.00~git2288-10f4998a-2).\n",
            "0 upgraded, 0 newly installed, 0 to remove and 11 not upgraded.\n"
          ],
          "name": "stdout"
        }
      ]
    },
    {
      "cell_type": "code",
      "metadata": {
        "id": "Pmkkl8Kao1-_",
        "colab_type": "code",
        "colab": {}
      },
      "source": [
        "import cv2\n",
        "import numpy as np\n",
        "import matplotlib.pyplot as plt\n",
        "import pytesseract"
      ],
      "execution_count": 12,
      "outputs": []
    },
    {
      "cell_type": "code",
      "metadata": {
        "id": "Hu13EederZnY",
        "colab_type": "code",
        "colab": {
          "base_uri": "https://localhost:8080/",
          "height": 202
        },
        "outputId": "15bf6033-92bc-4fa1-a519-6d521f1caa5b"
      },
      "source": [
        "!wget https://github.com/shellkore/captcha-solver/blob/master/captchas/captcha015.png"
      ],
      "execution_count": 13,
      "outputs": [
        {
          "output_type": "stream",
          "text": [
            "--2020-09-23 15:18:30--  https://github.com/shellkore/captcha-solver/blob/master/captchas/captcha015.png\n",
            "Resolving github.com (github.com)... 140.82.112.3\n",
            "Connecting to github.com (github.com)|140.82.112.3|:443... connected.\n",
            "HTTP request sent, awaiting response... 200 OK\n",
            "Length: unspecified [text/html]\n",
            "Saving to: ‘captcha015.png.1’\n",
            "\n",
            "captcha015.png.1        [  <=>               ]  75.82K   212KB/s    in 0.4s    \n",
            "\n",
            "2020-09-23 15:18:31 (212 KB/s) - ‘captcha015.png.1’ saved [77641]\n",
            "\n"
          ],
          "name": "stdout"
        }
      ]
    },
    {
      "cell_type": "markdown",
      "metadata": {
        "id": "MGRRN2pu49sn",
        "colab_type": "text"
      },
      "source": [
        "# **Code**"
      ]
    },
    {
      "cell_type": "code",
      "metadata": {
        "id": "DaN5n2pso1_C",
        "colab_type": "code",
        "colab": {}
      },
      "source": [
        "img1  = cv2.imread('/content/captcha007.png',0)\n",
        "img2 = cv2.imread('captcha002.png',0)"
      ],
      "execution_count": 14,
      "outputs": []
    },
    {
      "cell_type": "code",
      "metadata": {
        "id": "Ptweso_Mo1_F",
        "colab_type": "code",
        "colab": {}
      },
      "source": [
        "def showImage(img):\n",
        "    plt.imshow(img,cmap='gray')  "
      ],
      "execution_count": 15,
      "outputs": []
    },
    {
      "cell_type": "code",
      "metadata": {
        "id": "eR7u0IGNo1_G",
        "colab_type": "code",
        "colab": {}
      },
      "source": [
        "croppedImg1 = img1[11:67,42:178]\n",
        "croppedImg2 = img2[11:67,42:178]"
      ],
      "execution_count": 16,
      "outputs": []
    },
    {
      "cell_type": "code",
      "metadata": {
        "id": "Fp1pB7_Fo1_I",
        "colab_type": "code",
        "colab": {}
      },
      "source": [
        "blurImg1 = cv2.medianBlur(img1,3)\n",
        "blurImg2 = cv2.medianBlur(img2,3)"
      ],
      "execution_count": 17,
      "outputs": []
    },
    {
      "cell_type": "code",
      "metadata": {
        "id": "oe1GUbwko1_K",
        "colab_type": "code",
        "colab": {}
      },
      "source": [
        "blurImg1 = cv2.medianBlur(croppedImg1,3)\n",
        "blurImg2 = cv2.medianBlur(croppedImg2,3)"
      ],
      "execution_count": 18,
      "outputs": []
    },
    {
      "cell_type": "code",
      "metadata": {
        "id": "pkLRAp_Co1_M",
        "colab_type": "code",
        "colab": {}
      },
      "source": [
        "def removeLineNoise(inputImg):\n",
        "    img = inputImg\n",
        "    for i in range(img.shape[0]):\n",
        "        for j in range(img.shape[1]):\n",
        "            flag = False\n",
        "            if(img[i,j]!=50 and img[i,j]!=255):\n",
        "                for k in range(img.shape[0]):\n",
        "                    if(img[k,j]==50):\n",
        "                        flag = True\n",
        "\n",
        "                if(flag):\n",
        "                    img[i,j]=50\n",
        "                else:\n",
        "                    img[i,j]=255\n",
        "    return img"
      ],
      "execution_count": 19,
      "outputs": []
    },
    {
      "cell_type": "code",
      "metadata": {
        "id": "sXPNkTqho1_P",
        "colab_type": "code",
        "colab": {}
      },
      "source": [
        "outputImg1 = removeLineNoise(blurImg1)\n",
        "outputImg2 = removeLineNoise(blurImg2)"
      ],
      "execution_count": 20,
      "outputs": []
    },
    {
      "cell_type": "markdown",
      "metadata": {
        "id": "WkdL3s-d5Gfb",
        "colab_type": "text"
      },
      "source": [
        "# **Output**"
      ]
    },
    {
      "cell_type": "code",
      "metadata": {
        "id": "ID9tiC70o1_R",
        "colab_type": "code",
        "colab": {
          "base_uri": "https://localhost:8080/",
          "height": 189
        },
        "outputId": "7cf87f9b-f2bf-4128-9521-1324f1836cfe"
      },
      "source": [
        "showImage(outputImg1)"
      ],
      "execution_count": 21,
      "outputs": [
        {
          "output_type": "display_data",
          "data": {
            "image/png": "[encoded data removed]",
            "text/plain": [
              "<Figure size 432x288 with 1 Axes>"
            ]
          },
          "metadata": {
            "tags": [],
            "needs_background": "light"
          }
        }
      ]
    },
    {
      "cell_type": "code",
      "metadata": {
        "id": "UI3EtB8Eo1_T",
        "colab_type": "code",
        "colab": {
          "base_uri": "https://localhost:8080/",
          "height": 189
        },
        "outputId": "1f240c27-564e-4072-901e-a9c74b43c037"
      },
      "source": [
        "showImage(blurImg2)"
      ],
      "execution_count": 22,
      "outputs": [
        {
          "output_type": "display_data",
          "data": {
            "image/png": "[encoded data removed]",
            "text/plain": [
              "<Figure size 432x288 with 1 Axes>"
            ]
          },
          "metadata": {
            "tags": [],
            "needs_background": "light"
          }
        }
      ]
    },
    {
      "cell_type": "code",
      "metadata": {
        "id": "iDq6cyNlo1_U",
        "colab_type": "code",
        "colab": {
          "base_uri": "https://localhost:8080/",
          "height": 35
        },
        "outputId": "a9bdc748-b708-4939-8120-8c7678a3f98e"
      },
      "source": [
        "textOutput1 = pytesseract.image_to_string(blurImg1)\n",
        "textOutput1"
      ],
      "execution_count": 23,
      "outputs": [
        {
          "output_type": "execute_result",
          "data": {
            "application/vnd.google.colaboratory.intrinsic+json": {
              "type": "string"
            },
            "text/plain": [
              "'2béik\\n\\x0c'"
            ]
          },
          "metadata": {
            "tags": []
          },
          "execution_count": 23
        }
      ]
    },
    {
      "cell_type": "code",
      "metadata": {
        "id": "CG44ac9Jo1_X",
        "colab_type": "code",
        "colab": {
          "base_uri": "https://localhost:8080/",
          "height": 35
        },
        "outputId": "53bca2ef-4895-4e10-be3e-2bdff43933e3"
      },
      "source": [
        "textOutput2 = pytesseract.image_to_string(outputImg2)\n",
        "textOutput2"
      ],
      "execution_count": 24,
      "outputs": [
        {
          "output_type": "execute_result",
          "data": {
            "application/vnd.google.colaboratory.intrinsic+json": {
              "type": "string"
            },
            "text/plain": [
              "'Ser22\\n\\x0c'"
            ]
          },
          "metadata": {
            "tags": []
          },
          "execution_count": 24
        }
      ]
    },
    {
      "cell_type": "markdown",
      "metadata": {
        "id": "GuKY1JwY45Rq",
        "colab_type": "text"
      },
      "source": [
        "outout-miri"
      ]
    },
    {
      "cell_type": "markdown",
      "metadata": {
        "id": "qtBPuSI44Bpz",
        "colab_type": "text"
      },
      "source": [
        ""
      ]
    }
  ]
}