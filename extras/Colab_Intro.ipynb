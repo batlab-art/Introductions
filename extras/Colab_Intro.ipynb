{
  "nbformat": 4,
  "nbformat_minor": 0,
  "metadata": {
    "colab": {
      "name": "Colab Intro",
      "provenance": [],
      "collapsed_sections": [],
      "authorship_tag": "ABX9TyNAEhtEHpZoPDJk1kx6Udp9",
      "include_colab_link": true
    },
    "kernelspec": {
      "name": "python3",
      "display_name": "Python 3"
    }
  },
  "cells": [
    {
      "cell_type": "markdown",
      "metadata": {
        "id": "view-in-github",
        "colab_type": "text"
      },
      "source": [
        "<a href=\"https://colab.research.google.com/github/batlab-art/Introductions/blob/master/extras/Colab_Intro.ipynb\" target=\"_parent\"><img src=\"https://colab.research.google.com/assets/colab-badge.svg\" alt=\"Open In Colab\"/></a>"
      ]
    },
    {
      "cell_type": "code",
      "metadata": {
        "id": "FMYVwi0zmqZR",
        "colab_type": "code",
        "colab": {}
      },
      "source": [
        "!pwd"
      ],
      "execution_count": null,
      "outputs": []
    },
    {
      "cell_type": "code",
      "metadata": {
        "id": "AMs9VgLRm7xd",
        "colab_type": "code",
        "colab": {}
      },
      "source": [
        "!ls /bin\n"
      ],
      "execution_count": null,
      "outputs": []
    },
    {
      "cell_type": "code",
      "metadata": {
        "id": "cRLbCe4jAsiE",
        "colab_type": "code",
        "colab": {}
      },
      "source": [
        "!cd /content/sample_data"
      ],
      "execution_count": 36,
      "outputs": []
    },
    {
      "cell_type": "code",
      "metadata": {
        "id": "WOjbuAa9mwgx",
        "colab_type": "code",
        "colab": {}
      },
      "source": [
        "!ls -l /content/sample_data"
      ],
      "execution_count": null,
      "outputs": []
    },
    {
      "cell_type": "code",
      "metadata": {
        "id": "E782Q2svx8Mo",
        "colab_type": "code",
        "colab": {}
      },
      "source": [
        "!whoami"
      ],
      "execution_count": null,
      "outputs": []
    },
    {
      "cell_type": "code",
      "metadata": {
        "id": "I_tcnTls_e76",
        "colab_type": "code",
        "colab": {}
      },
      "source": [
        "!compgen -c"
      ],
      "execution_count": null,
      "outputs": []
    },
    {
      "cell_type": "code",
      "metadata": {
        "id": "0NY68g5dnJl1",
        "colab_type": "code",
        "colab": {}
      },
      "source": [
        "!man grep"
      ],
      "execution_count": null,
      "outputs": []
    },
    {
      "cell_type": "code",
      "metadata": {
        "id": "_7Zyh6vGyL2X",
        "colab_type": "code",
        "colab": {}
      },
      "source": [
        " !grep -Po '\"Series\": *\\K\"[^\"]*\"' sample_data/anscombe.json"
      ],
      "execution_count": null,
      "outputs": []
    },
    {
      "cell_type": "code",
      "metadata": {
        "id": "XCJBHXF1ClAt",
        "colab_type": "code",
        "colab": {}
      },
      "source": [
        "!sudo apt install tesseract-ocr"
      ],
      "execution_count": null,
      "outputs": []
    },
    {
      "cell_type": "code",
      "metadata": {
        "id": "rWvp7ElY9BUJ",
        "colab_type": "code",
        "colab": {}
      },
      "source": [
        "import cv2\n",
        "import numpy as np\n",
        "import matplotlib.pyplot as plt\n",
        "\n",
        "image  = cv2.imread('/content/photo.jpg')\n",
        "img_rgb = cv2.cvtColor(image, cv2.COLOR_BGR2RGB)\n",
        "\n",
        "blurredImage = cv2.medianBlur(image,3)\n",
        "\n",
        "plt.imshow(image) \n",
        "plt.show()\n",
        "\n",
        "plt.imshow(img_rgb) \n",
        "plt.show()"
      ],
      "execution_count": null,
      "outputs": []
    }
  ]
}