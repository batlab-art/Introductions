{
  "nbformat": 4,
  "nbformat_minor": 0,
  "metadata": {
    "colab": {
      "name": "Talk Introduction to Fast AI .ipynb",
      "provenance": [],
      "collapsed_sections": [],
      "include_colab_link": true
    },
    "kernelspec": {
      "name": "python3",
      "display_name": "Python 3"
    }
  },
  "cells": [
    {
      "cell_type": "markdown",
      "metadata": {
        "id": "view-in-github",
        "colab_type": "text"
      },
      "source": [
        "<a href=\"https://colab.research.google.com/github/batlab-art/Introductions/blob/master/Talk_Introduction_to_Fast_AI_.ipynb\" target=\"_parent\"><img src=\"https://colab.research.google.com/assets/colab-badge.svg\" alt=\"Open In Colab\"/></a>"
      ]
    },
    {
      "cell_type": "code",
      "metadata": {
        "id": "1C3-Ha97oEbT"
      },
      "source": [
        ""
      ],
      "execution_count": null,
      "outputs": []
    },
    {
      "cell_type": "markdown",
      "metadata": {
        "id": "SbSLSiM_oLeq"
      },
      "source": [
        "# Fast Introduction to Fast AI \n",
        "## starting slow...\n",
        " prehistory\n",
        "\n"
      ]
    },
    {
      "cell_type": "markdown",
      "metadata": {
        "id": "D8akIpwkDEHp"
      },
      "source": [
        "# Alan Turing 1950\n",
        "\n",
        "In 1950, Alan Turing developed the Turing test to test a machine's ability to exhibit intelligent behavior. Alan Turing's test has served as a foundational threshold for artificial intelligence. The idea being, will a computer ever be able to sufficiently imitate a human to the point where a suspicious judge cannot tell the difference between human and machine?"
      ]
    },
    {
      "cell_type": "markdown",
      "metadata": {
        "id": "0wAJ5EPdEMYw"
      },
      "source": [
        "![alan turing portrait](data:image/jpeg;base64,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)\n",
        "\n"
      ]
    },
    {
      "cell_type": "markdown",
      "metadata": {
        "id": "lhgWdvNzGEXw"
      },
      "source": [
        "[Short clip regarding turing test](https://www.youtube.com/watch?v=3wLqsRLvV-c)\n",
        "\n",
        "winner of turing test competition: https://www.pandorabots.com/kuki/\n",
        "\n",
        "[## Musician Holly Hendron and her  \"nascent machine intelligence” named Spawn](https://www.thefader.com/2018/12/04/holly-herndon-jlin-godmother-spawn-ai-music-video)"
      ]
    },
    {
      "cell_type": "markdown",
      "metadata": {
        "id": "bGfOcd4PDBXl"
      },
      "source": [
        "# Frank Rosenblatt **perceptron** (1958)\n",
        "\n"
      ]
    },
    {
      "cell_type": "markdown",
      "metadata": {
        "id": "e-ZWtyWzrzyH"
      },
      "source": [
        "![picture](https://news.cornell.edu/sites/default/files/styles/story_thumbnail_xlarge/public/2019-09/0925_rosenblatt_main.jpg?itok=SE0aS7ds)\n"
      ]
    },
    {
      "cell_type": "markdown",
      "metadata": {
        "id": "eCjvZTAZ9R77"
      },
      "source": [
        "An IBM 704 – a 5-ton computer the size of a room – was fed a series of punch cards. After 50 trials, the computer taught itself to distinguish cards marked on the left from cards marked on the right.\n",
        "\n",
        "“Stories about the creation of machines having human qualities have long been a fascinating province in the realm of science fiction,” Rosenblatt wrote in 1958. “Yet we are about to witness the birth of such a machine – a machine capable of perceiving, recognizing and identifying its surroundings without any human training or control.”\n",
        "\n",
        "Inspired by the way neurons work together in the brain, the perceptron is a single-layer neural network – an algorithm that classifies input into two possible categories. The neural network makes a prediction – say, right or left; or dog or cat – and if it’s wrong, tweaks itself to make a more informed prediction next time. It becomes more accurate over thousands or millions of iterations.\n",
        "\n",
        "\n",
        "\n",
        "\n"
      ]
    },
    {
      "cell_type": "markdown",
      "metadata": {
        "id": "E2nhfElFfwuR"
      },
      "source": [
        "# cornel review 1958\n"
      ]
    },
    {
      "cell_type": "markdown",
      "metadata": {
        "id": "P66nyDNHf6zX"
      },
      "source": [
        "![picture](https://news.cornell.edu/sites/default/files/styles/full_size/public/2019-09/0925_rosenblatt2.jpg?itok=Vx8qs4Ic)"
      ]
    },
    {
      "cell_type": "markdown",
      "metadata": {
        "id": "y6_YWdqJUz4i"
      },
      "source": [
        "# Marvin Minsky against Rosenblatt\n",
        "\n"
      ]
    },
    {
      "cell_type": "markdown",
      "metadata": {
        "id": "_EU6mrFUn8qs"
      },
      "source": [
        "### Minsky publicly debated the perceptron’s viability...\n",
        "\n",
        "Rosenblatt had a vision that he could make computers see and understand language, Minsky oposed, he pointed out that that’s not going to happen, because the functions used in the model of the pereceptron are just too simple. \n",
        "\n",
        "In 1969, Minsky and Seymour Papert published “Perceptrons,” a book that assailed Rosenblatt’s work and, essentially, sealed its fate. The following year, **Minsky won the A.M. Turing Award**  – computing’s highest honor.\n",
        "\n",
        "but \n",
        "# Minsky was wrong...\n",
        "and 60 years after Rosenblatt Perceptron - it is the basic for deep learning algorithms\n"
      ]
    },
    {
      "cell_type": "markdown",
      "metadata": {
        "id": "GhVY4TuEF_Ni"
      },
      "source": [
        "![picture](https://news.cornell.edu/sites/default/files/styles/full_size/public/2019-09/0925_rosenblatt4.jpg?itok=UQKthwdI)\n",
        "1958 drawing by Frank Rosenblatt\n"
      ]
    },
    {
      "cell_type": "markdown",
      "metadata": {
        "id": "uUWjAt_6m6DK"
      },
      "source": [
        "# Neuronal networks and neuron biologically\n",
        "\n",
        "\n"
      ]
    },
    {
      "cell_type": "markdown",
      "metadata": {
        "id": "NCR6p_HcnYpr"
      },
      "source": [
        "Here’s what the different components are made for :\n",
        "\n",
        "\n",
        "\n",
        "\n",
        "*   Dendrite: Receives signals from other neurons\n",
        "*   Soma: Processes the information\n",
        "*   Axon: Transmits the output of a neuron\n",
        "*   Synapse: Point of connection to other neurons\n",
        "\n",
        "\n",
        "\n",
        "\n"
      ]
    },
    {
      "cell_type": "markdown",
      "metadata": {
        "id": "3qMhSm8Royt3"
      },
      "source": [
        "![picture](https://maelfabien.github.io/assets/images/neuron.jpg)"
      ]
    },
    {
      "cell_type": "markdown",
      "metadata": {
        "id": "1UwnYnYKdU8B"
      },
      "source": [
        "## The McCulloch-Pitts Neuron (1943) \n",
        "![pic](https://maelfabien.github.io/assets/images/neuron_3.jpg) \n",
        "## Rosenblatt Perceptron (58)\n",
        "![pic](https://maelfabien.github.io/assets/images/neuron_4.jpg)\n"
      ]
    },
    {
      "cell_type": "code",
      "metadata": {
        "id": "RzccWvAKpJqk"
      },
      "source": [
        "import numpy as np\n",
        "\n",
        "class Perceptron(object):\n",
        "\n",
        "    def __init__(self, eta=0.01, epochs=50):\n",
        "        self.eta = eta\n",
        "        self.epochs = epochs\n",
        "\n",
        "    def train(self, X, y):\n",
        "\n",
        "        self.w_ = np.zeros(1 + X.shape[1])\n",
        "        self.errors_ = []\n",
        "\n",
        "        for _ in range(self.epochs):\n",
        "            errors = 0\n",
        "            for xi, target in zip(X, y):\n",
        "                update = self.eta * (target - self.predict(xi))\n",
        "                self.w_[1:] +=  update * xi\n",
        "                self.w_[0] +=  update\n",
        "                errors += int(update != 0.0)\n",
        "            self.errors_.append(errors)\n",
        "        return self\n",
        "\n",
        "    def net_input(self, X):\n",
        "        return np.dot(X, self.w_[1:]) + self.w_[0]\n",
        "\n",
        "    def predict(self, X):\n",
        "        return np.where(self.net_input(X) >= 0.0, 1, -1)"
      ],
      "execution_count": null,
      "outputs": []
    },
    {
      "cell_type": "code",
      "metadata": {
        "id": "3PKoZqCknteG"
      },
      "source": [
        "import pandas as pd\n",
        "df = pd.read_csv('https://archive.ics.uci.edu/ml/machine-learning-databases/iris/iris.data', header=None)\n",
        "\n",
        "# setosa and versicolor\n",
        "y = df.iloc[0:100, 4].values\n",
        "y = np.where(y == 'Iris-setosa', -1, 1)\n",
        "\n",
        "# sepal length and petal length\n",
        "X = df.iloc[0:100, [0,2]].values"
      ],
      "execution_count": null,
      "outputs": []
    },
    {
      "cell_type": "code",
      "metadata": {
        "id": "-k2oM83Un7gj",
        "outputId": "76f8818b-a1a9-486e-b798-9bca45c50b1f",
        "colab": {
          "base_uri": "https://localhost:8080/",
          "height": 612
        }
      },
      "source": [
        "%matplotlib inline\n",
        "import matplotlib.pyplot as plt\n",
        "from mlxtend.plotting import plot_decision_regions\n",
        "\n",
        "ppn = Perceptron(epochs=10, eta=0.1)\n",
        "\n",
        "ppn.train(X, y)\n",
        "print('Weights: %s' % ppn.w_)\n",
        "plot_decision_regions(X, y, clf=ppn)\n",
        "plt.title('Perceptron')\n",
        "plt.xlabel('sepal length [cm]')\n",
        "plt.ylabel('petal length [cm]')\n",
        "plt.show()\n",
        "\n",
        "plt.plot(range(1, len(ppn.errors_)+1), ppn.errors_, marker='o')\n",
        "plt.xlabel('Iterations')\n",
        "plt.ylabel('Misclassifications')\n",
        "plt.show()"
      ],
      "execution_count": null,
      "outputs": [
        {
          "output_type": "stream",
          "text": [
            "Weights: [-0.4  -0.68  1.82]\n"
          ],
          "name": "stdout"
        },
        {
          "output_type": "stream",
          "text": [
            "/usr/local/lib/python3.6/dist-packages/mlxtend/plotting/decision_regions.py:244: MatplotlibDeprecationWarning: Passing unsupported keyword arguments to axis() will raise a TypeError in 3.3.\n",
            "  ax.axis(xmin=xx.min(), xmax=xx.max(), y_min=yy.min(), y_max=yy.max())\n"
          ],
          "name": "stderr"
        },
        {
          "output_type": "display_data",
          "data": {
            "image/png": "[encoded data removed]",
            "text/plain": [
              "<Figure size 432x288 with 1 Axes>"
            ]
          },
          "metadata": {
            "tags": [],
            "needs_background": "light"
          }
        },
        {
          "output_type": "display_data",
          "data": {
            "image/png": "[encoded data removed]",
            "text/plain": [
              "<Figure size 432x288 with 1 Axes>"
            ]
          },
          "metadata": {
            "tags": [],
            "needs_background": "light"
          }
        }
      ]
    },
    {
      "cell_type": "code",
      "metadata": {
        "id": "ry7GP9tyn9Q2"
      },
      "source": [
        "Weights: [-0.4, -0.68, 1.82]"
      ],
      "execution_count": null,
      "outputs": []
    },
    {
      "cell_type": "markdown",
      "metadata": {
        "id": "nZMj05qevT23"
      },
      "source": [
        "[iris flower data set \n",
        "](https://en.wikipedia.org/wiki/Iris_flower_data_set)"
      ]
    },
    {
      "cell_type": "markdown",
      "metadata": {
        "id": "ArUsBp2CMbCM"
      },
      "source": [
        "\n",
        "#   ** **AI Winter** ** \n",
        " from the late 60's to the late  80's with some exceptions. "
      ]
    },
    {
      "cell_type": "markdown",
      "metadata": {
        "id": "DNv4yXhQ39S2"
      },
      "source": [
        "# Minsky was wrong!\n",
        "Rosenblatt's perceptron is the foundation of modern deep learning.\n",
        "\n",
        "[proof of universality](http://neuralnetworksanddeeplearning.com/chap4.html)"
      ]
    },
    {
      "cell_type": "markdown",
      "metadata": {
        "id": "HZxPxGb_dVVs"
      },
      "source": [
        "Contemporary Models:\n",
        "\n",
        "![pic](https://miro.medium.com/max/700/1*tWvofX1zZZnIHyHs-nKAfA.png)\n"
      ]
    },
    {
      "cell_type": "markdown",
      "metadata": {
        "id": "sUa6TsnSd4Rj"
      },
      "source": [
        "Jargon: GPU = (Graphics Processing Unit)\n",
        "\n",
        "What is **Deep** in Deep learning?\n",
        "\n",
        "What are **Labels? (input labels)**\n",
        "\n",
        "what are **hidden layers**?\n",
        "\n",
        "what is **epoch**?\n",
        "\n",
        "what is a **classifier**?\n",
        "\n",
        "What is **regression model**?\n",
        "\n",
        "what is **over fitting**?\n",
        "\n",
        "pyTorch - library for Deep Learning that is going to be used at this book.\n"
      ]
    },
    {
      "cell_type": "markdown",
      "metadata": {
        "id": "ZCOl2z7NrUbf"
      },
      "source": [
        "Fundamentally, classification is about predicting a label and regression is about predicting a quantity. ... That classification is the problem of predicting a discrete class label output for an example. That regression is the problem of predicting a continuous quantity output for an example"
      ]
    },
    {
      "cell_type": "markdown",
      "metadata": {
        "id": "31uxh-7klR6d"
      },
      "source": [
        "# fast AI\n",
        "\n",
        "[Course](https://course.fast.ai/) (book+ notebooks)\n",
        "\n",
        "[docs + tutorials](https://docs.fast.ai/tutorial)\n",
        "\n",
        "[Video lesson 1](https://course.fast.ai/videos/?lesson=1)\n",
        "\n",
        "[Video lesson 2](https://course.fast.ai/videos/?lesson=2)\n"
      ]
    },
    {
      "cell_type": "markdown",
      "metadata": {
        "id": "tAJuDz1i05sS"
      },
      "source": [
        "What can be done with fast AI?\n",
        "\n",
        "https://mc.ai/painting-style-classification-with-7-lines-of-code/"
      ]
    },
    {
      "cell_type": "markdown",
      "metadata": {
        "id": "GIIzfHQs3zH8"
      },
      "source": [
        "For Artist using AI see:\n",
        "\n",
        "https://aiartists.org/\n",
        "\n",
        "https://www.youtube.com/watch?v=1QIOoEID8kk&feature=emb_title\n"
      ]
    }
  ]
}