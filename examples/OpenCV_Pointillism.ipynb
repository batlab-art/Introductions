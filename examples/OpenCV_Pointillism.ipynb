{
  "nbformat": 4,
  "nbformat_minor": 0,
  "metadata": {
    "colab": {
      "name": "OpenCV / Pointillism",
      "provenance": [],
      "collapsed_sections": [
        "yq7SzSVyEuBu",
        "8SbZvx1_EedU"
      ],
      "toc_visible": true,
      "authorship_tag": "ABX9TyNra9bNYNHmSrsFJUQx4pAQ",
      "include_colab_link": true
    },
    "kernelspec": {
      "name": "python3",
      "display_name": "Python 3"
    }
  },
  "cells": [
    {
      "cell_type": "markdown",
      "metadata": {
        "id": "view-in-github",
        "colab_type": "text"
      },
      "source": [
        "<a href=\"https://colab.research.google.com/github/batlab-art/Introductions/blob/master/examples/OpenCV_Pointillism.ipynb\" target=\"_parent\"><img src=\"https://colab.research.google.com/assets/colab-badge.svg\" alt=\"Open In Colab\"/></a>"
      ]
    },
    {
      "cell_type": "markdown",
      "metadata": {
        "id": "ggXPi66BDduV"
      },
      "source": [
        "# Install Dependencies"
      ]
    },
    {
      "cell_type": "code",
      "metadata": {
        "id": "yKkH1dbnDu9V",
        "outputId": "cbbbdf96-c8d7-4973-bf4f-af23e81a255b",
        "colab": {
          "base_uri": "https://localhost:8080/"
        }
      },
      "source": [
        "!git clone https://github.com/matteo-ronchetti/Pointillism.git"
      ],
      "execution_count": 31,
      "outputs": [
        {
          "output_type": "stream",
          "text": [
            "fatal: destination path 'Pointillism' already exists and is not an empty directory.\n"
          ],
          "name": "stdout"
        }
      ]
    },
    {
      "cell_type": "code",
      "metadata": {
        "id": "gJ7dcQHbuHo3",
        "outputId": "8c2615c4-34d7-4873-9d89-7d985692357d",
        "colab": {
          "base_uri": "https://localhost:8080/"
        }
      },
      "source": [
        "!pip install kora\n",
        "from kora import console\n",
        "console.start()  # and click link"
      ],
      "execution_count": 32,
      "outputs": [
        {
          "output_type": "stream",
          "text": [
            "Requirement already satisfied: kora in /usr/local/lib/python3.6/dist-packages (0.7.4)\n",
            "Requirement already satisfied: ipython in /usr/local/lib/python3.6/dist-packages (from kora) (5.5.0)\n",
            "Requirement already satisfied: traitlets>=4.2 in /usr/local/lib/python3.6/dist-packages (from ipython->kora) (4.3.3)\n",
            "Requirement already satisfied: pygments in /usr/local/lib/python3.6/dist-packages (from ipython->kora) (2.6.1)\n",
            "Requirement already satisfied: pexpect; sys_platform != \"win32\" in /usr/local/lib/python3.6/dist-packages (from ipython->kora) (4.8.0)\n",
            "Requirement already satisfied: decorator in /usr/local/lib/python3.6/dist-packages (from ipython->kora) (4.4.2)\n",
            "Requirement already satisfied: setuptools>=18.5 in /usr/local/lib/python3.6/dist-packages (from ipython->kora) (50.3.0)\n",
            "Requirement already satisfied: prompt-toolkit<2.0.0,>=1.0.4 in /usr/local/lib/python3.6/dist-packages (from ipython->kora) (1.0.18)\n",
            "Requirement already satisfied: pickleshare in /usr/local/lib/python3.6/dist-packages (from ipython->kora) (0.7.5)\n",
            "Requirement already satisfied: simplegeneric>0.8 in /usr/local/lib/python3.6/dist-packages (from ipython->kora) (0.8.1)\n",
            "Requirement already satisfied: six in /usr/local/lib/python3.6/dist-packages (from traitlets>=4.2->ipython->kora) (1.15.0)\n",
            "Requirement already satisfied: ipython-genutils in /usr/local/lib/python3.6/dist-packages (from traitlets>=4.2->ipython->kora) (0.2.0)\n",
            "Requirement already satisfied: ptyprocess>=0.5 in /usr/local/lib/python3.6/dist-packages (from pexpect; sys_platform != \"win32\"->ipython->kora) (0.6.0)\n",
            "Requirement already satisfied: wcwidth in /usr/local/lib/python3.6/dist-packages (from prompt-toolkit<2.0.0,>=1.0.4->ipython->kora) (0.2.5)\n",
            "Console URL: https://teleconsole.com/s/d9f2a46fdc8b9c9e93050941f8618a1543b26c47\n"
          ],
          "name": "stdout"
        }
      ]
    },
    {
      "cell_type": "code",
      "metadata": {
        "id": "8UWSStwUDa3J"
      },
      "source": [
        "!pip install icrawler"
      ],
      "execution_count": null,
      "outputs": []
    },
    {
      "cell_type": "code",
      "metadata": {
        "id": "dt2zvjQ5uz-u"
      },
      "source": [
        "import math\n",
        "import progressbar\n",
        "\n",
        "from Pointillism.pointillism import *"
      ],
      "execution_count": 34,
      "outputs": []
    },
    {
      "cell_type": "markdown",
      "metadata": {
        "id": "xOJzeHGyDodt"
      },
      "source": [
        "# Fetch Images\n",
        "### BingImageCrawler:\n",
        "**Type** – “photo”, “clipart”, “linedrawing”, “transparent”, “animated\"\n",
        "**Color** – “color”, “blackandwhite”, “red”, “orange”, “yellow”, “green”, “teal”, “blue”, “purple”, “pink”, “white”, “gray”, “black”, “brown\n",
        "**Size** – “large”, “medium”, “small” or larger than a given size (e.g. “>640x480”).\n",
        "**License** – “creativecommons”, “publicdomain”, “noncommercial”, “commercial”, “noncommercial,modify”, “commercial,modify”.\n",
        "**Layout** – “square”, “wide”, “tall”.\n",
        "**People** – “face”, “portrait”.\n",
        "**Date** – “pastday”, “pastweek”, “pastmonth”, “pastyear”.\n",
        "\n",
        "https://icrawler.readthedocs.io/en/latest/builtin.html"
      ]
    },
    {
      "cell_type": "code",
      "metadata": {
        "id": "dUIRLWDIDtp4"
      },
      "source": [
        "!rm /content/download/*\n",
        "\n",
        "from icrawler.builtin import BingImageCrawler\n",
        "\n",
        "# הגדרת משתנים עבור פרמטרים לחיפוש תמונות\n",
        "#\n",
        "\n",
        "keywordText = 'wind shade range'  #@param {type: \"string\"}\n",
        "num_images =   8 #@param {type: \"number\"}\n",
        "directory = 'download'  #@param {type: \"string\"}\n",
        "\n",
        "# ביצוע חיפוש והורדת תמונות מבינג\n",
        "#\n",
        "\n",
        "bing_crawler = BingImageCrawler(storage={'root_dir': directory})\n",
        "bing_crawler.crawl(keyword=keywordText, max_num=num_images)\n",
        "\n",
        "output_directory = '/content/' + directory + '/'"
      ],
      "execution_count": null,
      "outputs": []
    },
    {
      "cell_type": "markdown",
      "metadata": {
        "id": "yq7SzSVyEuBu"
      },
      "source": [
        "# Pointillize function"
      ]
    },
    {
      "cell_type": "code",
      "metadata": {
        "id": "GPd0Dj9Jvlva"
      },
      "source": [
        "import matplotlib.pyplot as plt\n",
        "import cv2\n",
        "\n",
        "def Pointillize (filenameAndPath, stroke_scale = 0, gradient_smoothing_radius = 0, limit_image_size = 0, palette_size = 10):\n",
        "\n",
        "  img = cv2.imread(filenameAndPath)\n",
        "\n",
        "  if limit_image_size > 0:\n",
        "    img = limit_size(img, limit_image_size)\n",
        "\n",
        "  if stroke_scale == 0:\n",
        "      stroke_scale = int(math.ceil(max(img.shape) / 1000))\n",
        "      print(\"Automatically chosen stroke scale: %d\" % stroke_scale)\n",
        "  else:\n",
        "     stroke_scale = stroke_scale\n",
        "\n",
        "  if gradient_smoothing_radius == 0:\n",
        "      gradient_smoothing_radius = int(round(max(img.shape) / 50))\n",
        "      print(\"Automatically chosen gradient smoothing radius: %d\" % gradient_smoothing_radius)\n",
        "  else:\n",
        "      gradient_smoothing_radius = gradient_smoothing_radius\n",
        "\n",
        "  # convert the image to grayscale to compute the gradient\n",
        "  gray = cv2.cvtColor(img, cv2.COLOR_BGR2GRAY)\n",
        "\n",
        "  print(\"Computing color palette...\")\n",
        "  palette = ColorPalette.from_image(img, palette_size)\n",
        "\n",
        "  print(\"Extending color palette...\")\n",
        "  palette = palette.extend([(0, 50, 0), (15, 30, 0), (-15, 30, 0)])\n",
        "\n",
        "  # display the color palette\n",
        "  #plt.imshow(palette.to_image())\n",
        "  # cv2.imshow(\"palette\", palette.to_image())\n",
        "  # cv2.waitKey(200)\n",
        "\n",
        "  print(\"Computing gradient...\")\n",
        "  gradient = VectorField.from_gradient(gray)\n",
        "\n",
        "  print(\"Smoothing gradient...\")\n",
        "  gradient.smooth(gradient_smoothing_radius)\n",
        "\n",
        "  print(\"Drawing image...\")\n",
        "  # create a \"cartonized\" version of the image to use as a base for the painting\n",
        "  res = cv2.medianBlur(img, 11)\n",
        "  # define a randomized grid of locations for the brush strokes\n",
        "  grid = randomized_grid(img.shape[0], img.shape[1], scale=3)\n",
        "  batch_size = 10000\n",
        "\n",
        "  bar = progressbar.ProgressBar()\n",
        "  for h in bar(range(0, len(grid), batch_size)):\n",
        "    # get the pixel colors at each point of the grid\n",
        "    pixels = np.array([img[x[0], x[1]] for x in grid[h:min(h + batch_size, len(grid))]])\n",
        "    # precompute the probabilities for each color in the palette\n",
        "    # lower values of k means more randomnes\n",
        "    color_probabilities = compute_color_probabilities(pixels, palette, k=9)\n",
        "\n",
        "    for i, (y, x) in enumerate(grid[h:min(h + batch_size, len(grid))]):\n",
        "        color = color_select(color_probabilities[i], palette)\n",
        "        angle = math.degrees(gradient.direction(y, x)) + 90\n",
        "        length = int(round(stroke_scale + stroke_scale * math.sqrt(gradient.magnitude(y, x))))\n",
        "\n",
        "        # draw the brush stroke\n",
        "        cv2.ellipse(res, (x, y), (length, stroke_scale), angle, 0, 360, color, -1, cv2.LINE_AA)\n",
        "\n",
        "  return res, palette.to_image()\n"
      ],
      "execution_count": null,
      "outputs": []
    },
    {
      "cell_type": "markdown",
      "metadata": {
        "id": "8SbZvx1_EedU"
      },
      "source": [
        "# Process Images"
      ]
    },
    {
      "cell_type": "code",
      "metadata": {
        "id": "kcBw1Tz-EkCS"
      },
      "source": [
        "import cv2\n",
        "import matplotlib.pyplot as plt\n",
        "import os\n",
        "\n",
        "# List Files\n",
        "# os.listdir returns a list of all files in output_directory \n",
        "# the list contains only filenames - to access a file from the list you need to\n",
        "# concat output_directory + inputFiles[n]\n",
        "# \n",
        "\n",
        "inputFiles = os.listdir(output_directory)\n",
        "resultsFolder = '/content/out/'\n",
        "\n",
        "if not os.path.exists(resultsFolder):\n",
        "  os.mkdir(resultsFolder)\n",
        "else:\n",
        "  filelist = os.listdir(resultsFolder)\n",
        "  for f in filelist:\n",
        "    os.remove(os.path.join(resultsFolder, f))\n",
        "\n",
        "for file in inputFiles:\n",
        "  src = cv2.imread(output_directory + file)\n",
        "  stroke_scale = 0 # random.randint(1, 4)\n",
        "  gradient_smoothing_radius = 0 \n",
        "  limit_image_size = 0\n",
        "  palette_size = 10 # random.randint(6, 10)\n",
        "  result, pallete = Pointillize (output_directory + file)\n",
        "  cv2.imwrite(resultsFolder + file, result)\n"
      ],
      "execution_count": null,
      "outputs": []
    },
    {
      "cell_type": "code",
      "metadata": {
        "id": "H2BwJxc47h3i"
      },
      "source": [
        "from google.colab.patches import cv2_imshow\n",
        "\n",
        "resultsFolder = '/content/out/'\n",
        "outFiles = os.listdir(resultsFolder)\n",
        "\n",
        "# Display\n",
        "for i in range(len(outFiles)):\n",
        "    cv2_imshow(cv2.imread(resultsFolder + outFiles[i]))\n",
        "  #  cv2_imshow(cv2.cvtColor(cv2.imread(resultsFolder + outFiles[i]),cv2.COLOR_BGR2RGB))\n"
      ],
      "execution_count": null,
      "outputs": []
    }
  ]
}